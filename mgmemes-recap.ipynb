{
 "cells": [
  {
   "cell_type": "code",
   "execution_count": 1,
   "metadata": {},
   "outputs": [],
   "source": [
    "import datetime\n",
    "import pandas as pd\n",
    "import seaborn as sns\n",
    "import matplotlib.pyplot as plt\n",
    "import numpy as np\n",
    "from matplotlib.colors import LinearSegmentedColormap\n",
    "import datetime"
   ]
  },
  {
   "cell_type": "code",
   "execution_count": 2,
   "metadata": {},
   "outputs": [],
   "source": [
    "data = []\n",
    "\n",
    "message_to_type = {\n",
    "    'afbeelding weggelaten': 'meme',\n",
    "    'sticker weggelaten': 'sticker',\n",
    "    'GIF weggelaten': 'GIF',\n",
    "    'video weggelaten': 'video',\n",
    "    'Dit bericht is verwijderd.': 'verwijderd',\n",
    "}\n",
    "\n",
    "with open('_chat.txt') as file:\n",
    "    for i, line in enumerate(file.read().split('[')):\n",
    "        line = line.strip('\\n')\n",
    "        if line != '':\n",
    "            timestamp, rest = line.split('] ')\n",
    "            timestamp = datetime.datetime.strptime(timestamp, \"%d-%m-%Y %H:%M:%S\")\n",
    "            sender, message = rest.split(': ', maxsplit=1)\n",
    "            message = message.strip('\\u200e')\n",
    "            message = message.strip('\\n')\n",
    "            message_type = 'bericht'\n",
    "            if message in message_to_type:\n",
    "                message_type = message_to_type[message]\n",
    "            elif 'heeft' in message:\n",
    "                if 'toegevoegd' in message:\n",
    "                    message_type = 'toegevoegd'\n",
    "                if 'verwijderd' in message:\n",
    "                    message_type = 'verwijderd'\n",
    "            elif 'document weggelaten' in message:\n",
    "                message_type = 'document'\n",
    "            elif 'PEILING' in message:\n",
    "                message_type = 'peiling'\n",
    "            data.append({\n",
    "                'timestamp': timestamp,\n",
    "                'sender': sender,\n",
    "                'message': message,\n",
    "                'type': message_type,\n",
    "            })\n",
    "            # if message == 'sticker weggelaten':\n",
    "            #     print(message)\n",
    "            # print(i, message)\n",
    "\n",
    "df = pd.DataFrame(data)\n",
    "df = df[df['timestamp'] > datetime.datetime(2022,12,31,23,59,59)]\n",
    "# df\n",
    "# df_personen = df[df['sender'] != 'MGMemes']\n",
    "# df[df['sender'] == 'MGMemes']\n",
    "# 'wijzigen groepsnaam'\n",
    "# 'toevoegen/verwijderen van personen'\n",
    "# 'heeft een spraakchat gestart'"
   ]
  },
  {
   "cell_type": "code",
   "execution_count": 3,
   "metadata": {},
   "outputs": [
    {
     "data": {
      "image/png": "[encoded data removed]",
      "text/plain": [
       "<Figure size 500x1000 with 1 Axes>"
      ]
     },
     "metadata": {},
     "output_type": "display_data"
    }
   ],
   "source": [
    "d_range = pd.date_range('2023-01-01', '2023-12-31', freq='D')\n",
    "num_message = np.zeros((d_range[-1].isocalendar().week+1, 7))\n",
    "this_df = df[df.type == 'meme']\n",
    "num_contributions = this_df.groupby(this_df['timestamp'].dt.date).size()\n",
    "for date, count in num_contributions.items():\n",
    "    isodate = date.isocalendar()\n",
    "    num_message[isodate.week, isodate.weekday-1] = count\n",
    "\n",
    "plt.figure(figsize=(5, 10))\n",
    "ax = sns.heatmap(\n",
    "    num_message, \n",
    "    cmap='Greens',\n",
    "    cbar=False,\n",
    "    square=True,\n",
    ")\n",
    "\n",
    "weeks_month_start = [0.5]\n",
    "month_names = ['Jan']\n",
    "for month in range(2,13):\n",
    "    date = datetime.date(year=2023,month=month,day=1)\n",
    "    weeks_month_start.append(date.isocalendar().week + 0.5)\n",
    "    month_names.append(date.strftime('%b'))\n",
    "\n",
    "ax.set_yticks(weeks_month_start)\n",
    "ax.set_yticklabels(month_names, rotation=0)\n",
    "\n",
    "ax.set_xticklabels(\n",
    "    ['M', 'T', 'W', 'T', 'F', 'S', 'S'], \n",
    "    # rotation=45, \n",
    "    # ha='left',\n",
    ") \n",
    "ax.xaxis.set_ticks_position('top')\n",
    "# ax.tick_params(axis='x', which='both', bottom=False, top=True)\n",
    "\n",
    "plt.show()\n"
   ]
  },
  {
   "cell_type": "markdown",
   "metadata": {},
   "source": []
  }
 ],
 "metadata": {
  "kernelspec": {
   "display_name": "Python 3 (ipykernel)",
   "language": "python",
   "name": "python3"
  },
  "language_info": {
   "codemirror_mode": {
    "name": "ipython",
    "version": 3
   },
   "file_extension": ".py",
   "mimetype": "text/x-python",
   "name": "python",
   "nbconvert_exporter": "python",
   "pygments_lexer": "ipython3",
   "version": "3.12.0"
  }
 },
 "nbformat": 4,
 "nbformat_minor": 4
}
